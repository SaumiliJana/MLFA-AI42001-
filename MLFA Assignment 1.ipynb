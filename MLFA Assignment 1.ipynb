{
 "cells": [
  {
   "cell_type": "code",
   "execution_count": 58,
   "id": "272f11d0",
   "metadata": {},
   "outputs": [],
   "source": [
    "#importing modules\n",
    "import numpy as np\n",
    "import pandas as pd\n",
    "import random"
   ]
  },
  {
   "cell_type": "code",
   "execution_count": 59,
   "id": "b1835145",
   "metadata": {},
   "outputs": [
    {
     "name": "stdout",
     "output_type": "stream",
     "text": [
      "    behavior_sexualRisk  behavior_eating  behavior_personalHygine  \\\n",
      "0                    10               13                       12   \n",
      "1                    10               11                       11   \n",
      "2                    10               15                        3   \n",
      "3                    10               11                       10   \n",
      "4                     8               11                        7   \n",
      "..                  ...              ...                      ...   \n",
      "67                   10               14                       14   \n",
      "68                   10               12                       15   \n",
      "69                   10                8                       11   \n",
      "70                    9               12                       13   \n",
      "71                   10               14                       14   \n",
      "\n",
      "    intention_aggregation  intention_commitment  attitude_consistency  \\\n",
      "0                       4                     7                     9   \n",
      "1                      10                    14                     7   \n",
      "2                       2                    14                     8   \n",
      "3                      10                    15                     7   \n",
      "4                       8                    10                     7   \n",
      "..                    ...                   ...                   ...   \n",
      "67                     10                    15                     6   \n",
      "68                     10                    15                     8   \n",
      "69                      6                    10                     6   \n",
      "70                     10                    13                     6   \n",
      "71                      6                    12                     7   \n",
      "\n",
      "    attitude_spontaneity  norm_significantPerson  norm_fulfillment  \\\n",
      "0                     10                       1                 8   \n",
      "1                      7                       5                 5   \n",
      "2                     10                       1                 4   \n",
      "3                      7                       1                 5   \n",
      "4                      8                       1                 5   \n",
      "..                   ...                     ...               ...   \n",
      "67                     7                       5                15   \n",
      "68                     8                       5                15   \n",
      "69                     4                       3                13   \n",
      "70                     6                       5                14   \n",
      "71                     8                       5                15   \n",
      "\n",
      "    perception_vulnerability  perception_severity  motivation_strength  \\\n",
      "0                          7                    3                   14   \n",
      "1                          4                    2                   15   \n",
      "2                          7                    2                    7   \n",
      "3                          4                    2                   15   \n",
      "4                          3                    2                   15   \n",
      "..                       ...                  ...                  ...   \n",
      "67                        14                   10                   15   \n",
      "68                        14                    8                   12   \n",
      "69                         9                    8                   14   \n",
      "70                        13                   10                   13   \n",
      "71                        12                   10                   10   \n",
      "\n",
      "    motivation_willingness  socialSupport_emotionality  \\\n",
      "0                        8                           5   \n",
      "1                       13                           7   \n",
      "2                        3                           3   \n",
      "3                       13                           7   \n",
      "4                        5                           3   \n",
      "..                     ...                         ...   \n",
      "67                      13                           9   \n",
      "68                      14                          11   \n",
      "69                      12                           9   \n",
      "70                      12                          11   \n",
      "71                      13                          11   \n",
      "\n",
      "    socialSupport_appreciation  socialSupport_instrumental  \\\n",
      "0                            7                          12   \n",
      "1                            6                           5   \n",
      "2                            6                          11   \n",
      "3                            4                           4   \n",
      "4                            6                          12   \n",
      "..                         ...                         ...   \n",
      "67                           8                          12   \n",
      "68                           7                          13   \n",
      "69                           7                          11   \n",
      "70                           8                          12   \n",
      "71                           9                          14   \n",
      "\n",
      "    empowerment_knowledge  empowerment_abilities  empowerment_desires  \\\n",
      "0                      12                     11                    8   \n",
      "1                       5                      4                    4   \n",
      "2                       3                      3                   15   \n",
      "3                       4                      4                    4   \n",
      "4                       5                      4                    7   \n",
      "..                    ...                    ...                  ...   \n",
      "67                     12                     11                    9   \n",
      "68                     15                     11                   14   \n",
      "69                     12                     10                   10   \n",
      "70                     11                     13                   15   \n",
      "71                     13                     15                   15   \n",
      "\n",
      "    ca_cervix  \n",
      "0           1  \n",
      "1           1  \n",
      "2           1  \n",
      "3           1  \n",
      "4           1  \n",
      "..        ...  \n",
      "67          0  \n",
      "68          0  \n",
      "69          0  \n",
      "70          0  \n",
      "71          0  \n",
      "\n",
      "[72 rows x 20 columns]\n"
     ]
    }
   ],
   "source": [
    "#importing the dataset\n",
    "all_data = pd.read_csv('sobar-72.csv')\n",
    "print(all_data)"
   ]
  },
  {
   "cell_type": "code",
   "execution_count": 60,
   "id": "3aca1c20",
   "metadata": {},
   "outputs": [],
   "source": [
    "#splitting the dataset into training and test datasets\n",
    "train_data = all_data.head(57)\n",
    "test_data = all_data.tail(15)\n",
    "#print(train_data)\n",
    "#print(test_data)"
   ]
  },
  {
   "cell_type": "code",
   "execution_count": 61,
   "id": "52113d1e",
   "metadata": {},
   "outputs": [
    {
     "name": "stdout",
     "output_type": "stream",
     "text": [
      "[[10 11  8 10 15  7  8  5 14 13  8 12  7  4  3  3  4  4  7  0]\n",
      " [10 11  9  6 15  6  8  5 14 11  8 11  7  3  2  3  3  3  3  0]\n",
      " [10 13  9 10 15  8  8  5 14  8  8 11  3  3  2  3  3  3  3  0]\n",
      " [10 12 10 10 15  6  8  5 15 11  8 13  7  3  2  3  3  3  3  0]\n",
      " [10 10 10 10 15  6  6  5 14 13  9 15  9 13  8 14 13 12 12  0]\n",
      " [10 13 11  6 15  8 10  5 15  7 10 13  7  3  5  3  3  3  3  0]\n",
      " [10 13 15 10 15  8 10  5 14  6  8 13  7  3  4  3  3  6  3  0]\n",
      " [10 15  8  6 11  6 10  5 11 15  8 15  7  3  4 11 13 10 15  0]\n",
      " [10 13 11  6 14  9 10  5 15 15 10 15  3  3  4  7  7  7 11  0]\n",
      " [10 12 13 10 11  7  7  5 14 15  9 14 10  6  6  6  9  7 11  0]\n",
      " [10 14 14 10 15  6  7  5 15 14 10 15 13  9  8 12 12 11  9  0]\n",
      " [10 12 15 10 15  8  8  5 15 14  8 12 14 11  7 13 15 11 14  0]\n",
      " [10  8 11  6 10  6  4  3 13  9  8 14 12  9  7 11 12 10 10  0]\n",
      " [ 9 12 13 10 13  6  6  5 14 13 10 13 12 11  8 12 11 13 15  0]\n",
      " [10 14 14  6 12  7  8  5 15 12 10 10 13 11  9 14 13 15 15  0]]\n"
     ]
    }
   ],
   "source": [
    "#converting to numpy arrays for ease of computation\n",
    "all_arr = all_data.to_numpy()\n",
    "train_arr = train_data.to_numpy()\n",
    "#print(train_arr)\n",
    "test_arr = test_data.to_numpy()\n",
    "print(test_arr)"
   ]
  },
  {
   "cell_type": "code",
   "execution_count": 62,
   "id": "20ab4c06",
   "metadata": {},
   "outputs": [],
   "source": [
    "#Functions for calculating distances\n",
    "\n",
    "#Euclidean distance\n",
    "def d_euclidean(point1, point2):\n",
    "    a = np.subtract(point1,point2)  \n",
    "    a = np.power(a, 2)\n",
    "    s = np.sum(a)\n",
    "    dist = s**(1/2)\n",
    "    return(dist)\n",
    "    \n",
    "#check = d_euclidean([2,3,4],[1,1,1])//For checking the working of the function\n",
    "#check\n",
    "\n"
   ]
  },
  {
   "cell_type": "code",
   "execution_count": 63,
   "id": "878e0ceb",
   "metadata": {},
   "outputs": [],
   "source": [
    "#1-NN for condensing\n",
    "\n",
    "def nrst_nbr(frame,point):\n",
    "    min = None\n",
    "    for row in frame:\n",
    "        d = d_euclidean(row,point)\n",
    "        if min is None:\n",
    "            min = d\n",
    "            x = row\n",
    "        elif d<min:\n",
    "            min = d\n",
    "            x = row\n",
    "    return(x)\n",
    "        \n",
    "#test the function\n",
    "#a = np.array([[1,1,1],[0.5,0.5,0.5], [0.1,0.1,0.1],[2,2,2]])\n",
    "#p = np.array([0,0,0])\n",
    "#z = nrst_nbr(a,p)\n",
    "#z\n",
    "\n",
    "#Test successful!!\n",
    "    "
   ]
  },
  {
   "cell_type": "code",
   "execution_count": 64,
   "id": "18b22f78",
   "metadata": {},
   "outputs": [
    {
     "data": {
      "text/plain": [
       "20"
      ]
     },
     "execution_count": 64,
     "metadata": {},
     "output_type": "execute_result"
    }
   ],
   "source": [
    "(r,c)=train_arr.shape\n",
    "c"
   ]
  },
  {
   "cell_type": "code",
   "execution_count": 83,
   "id": "c21c0147",
   "metadata": {},
   "outputs": [
    {
     "name": "stdout",
     "output_type": "stream",
     "text": [
      "final set [[10 13 12  4  7  9 10  1  8  7  3 14  8  5  7 12 12 11  8  1]\n",
      " [10 12 10  7 15  6  8  2  4  9  2 15 12 10  7 12 14 10 14  0]\n",
      " [10 15 13 10 15  6 10  1  7  7  2 15  7  3  4  3 11  5  9  0]\n",
      " [ 7 15  7  6 11  8  8  5  3  3  4 15  3  8  2  9  3  4  4  1]\n",
      " [10 14  8  6 15  8 10  1  3  4  2 14  8  7  2  7 13  9  6  1]\n",
      " [10 15 15  4 15  8 10  5  3  8  3 11  3  3  2  7  8  5  3  1]\n",
      " [ 9 12 14  9 15 10  9  3  6  3  2 15 15  3 10 15 11  3 11  1]\n",
      " [10 15  7  2 15  6 10  1  3  5  2  9 15 13 10 15 13 15 15  1]\n",
      " [10 11 10 10 15  7  7  1  5  4  2 15 13  7  4  4  4  4  4  1]\n",
      " [ 8 12  9 10 10  5 10  5  5  5  2 10  9 13  2  9  8  7 12  1]\n",
      " [10 10  5  2 15  8 10  5 13 15 10 15  3  3  2 13 15 15 15  0]\n",
      " [10 15  9  3 15  8 10  1  3  5  6 10 15 13 10 15 15 15 15  0]\n",
      " [10  3  5  2  9  6 10  1  3  9  6 11 10  9  9 14  6 10 10  0]\n",
      " [10 10 12  5  7  6  6  4  5 10  4 11  9 11  8 11 11 10 11  0]\n",
      " [10 12 12  8 10  8  6  2  7  6  2 12 11  9  8 12 10 10  9  1]\n",
      " [10 15 15  8  9  8  9  4  7  6  4 12 12 14  9 14 13  9 12  0]]\n",
      "(16, 20)\n"
     ]
    }
   ],
   "source": [
    "#Condensing the training dataset# condensed knn algorithm\n",
    "S = np.array(train_arr[0] ,ndmin=2)\n",
    "i = 1000\n",
    "(r,c)=train_arr.shape\n",
    "while(i>0):\n",
    "    j = random.randint(0, 56)\n",
    "    y = train_arr[j]\n",
    "    a = nrst_nbr(S,y) #a contains the the row in S which is closest to the point in the training data being tested\n",
    "    if a[c-1]==y[c-1]:\n",
    "        #print(a)\n",
    "        #print(y)\n",
    "         i= i-1\n",
    "    else:\n",
    "        S = np.vstack((S,y) )\n",
    "        i= i-1\n",
    "\n",
    "print('final condensed set', S)\n",
    "#print(S.shape)\n"
   ]
  },
  {
   "cell_type": "code",
   "execution_count": null,
   "id": "178b1336",
   "metadata": {},
   "outputs": [],
   "source": [
    "#5-KNN on the condensed data set\n",
    "distances = []\n",
    "\n",
    "for i in test_arr:\n",
    "    for j in S:\n",
    "        dis = d_euclidean(i,j)\n",
    "        \n",
    "        \n",
    "        \n",
    "        \n",
    "    \n"
   ]
  },
  {
   "cell_type": "code",
   "execution_count": 93,
   "id": "2cd3127f",
   "metadata": {},
   "outputs": [
    {
     "name": "stdout",
     "output_type": "stream",
     "text": [
      "None\n"
     ]
    }
   ],
   "source": []
  },
  {
   "cell_type": "code",
   "execution_count": null,
   "id": "2dbdb302",
   "metadata": {},
   "outputs": [],
   "source": []
  }
 ],
 "metadata": {
  "kernelspec": {
   "display_name": "Python 3 (ipykernel)",
   "language": "python",
   "name": "python3"
  },
  "language_info": {
   "codemirror_mode": {
    "name": "ipython",
    "version": 3
   },
   "file_extension": ".py",
   "mimetype": "text/x-python",
   "name": "python",
   "nbconvert_exporter": "python",
   "pygments_lexer": "ipython3",
   "version": "3.9.7"
  }
 },
 "nbformat": 4,
 "nbformat_minor": 5
}
